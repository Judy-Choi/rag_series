{
 "cells": [
  {
   "cell_type": "markdown",
   "metadata": {},
   "source": [
    "## Dataset\n"
   ]
  },
  {
   "cell_type": "code",
   "execution_count": 17,
   "metadata": {},
   "outputs": [],
   "source": [
    "lyrics1 = [\n",
    "    (\"Cause I-I-I'm in the stars tonight\", 0.9),\n",
    "    (\"So watch me bring the fire and set the night alight\", 0.8),\n",
    "    (\"Shining through the city with a little funk and soul\", 0.7),\n",
    "    (\"So I'ma light it up like dynamite\", 0.6)\n",
    "    ]\n",
    "\n",
    "lyrics2 = [\n",
    "    (\"Cause I-I-I'm in the stars tonight\", 0.5),\n",
    "    (\"So watch me bring the fire and set the night alight\", 0.4),\n",
    "    (\"Bring a friend, join the crowd\", 0.3),\n",
    "    (\"Just move like we off the wall\", 0.2)\n",
    "    ]"
   ]
  },
  {
   "cell_type": "markdown",
   "metadata": {},
   "source": [
    "## RRF"
   ]
  },
  {
   "cell_type": "code",
   "execution_count": null,
   "metadata": {},
   "outputs": [],
   "source": [
    "from typing import List, Tuple\n",
    "\n",
    "\n",
    "def rrf_combination(\n",
    "    lyrics1: List[Tuple[str, float]],\n",
    "    lyrics2: List[Tuple[str, float]],\n",
    "    k: int = 60 # RRF에서 사용하는 상수 (기본값 60)\n",
    ") -> List[Tuple[str, float]]:\n",
    "\n",
    "    combined_results = {}\n",
    "    \n",
    "    # 첫 번째 결과의 Reciprocal Rank 계산 및 점수 합산\n",
    "    for rank, (text, score) in enumerate(lyrics1):\n",
    "        if text not in combined_results:\n",
    "            combined_results[text] = 0\n",
    "        combined_results[text] += score + 1 / (k + rank)\n",
    "    \n",
    "    # 두 번째 결과의 Reciprocal Rank 계산 및 점수 합산\n",
    "    for rank, (text, score) in enumerate(lyrics2):\n",
    "        if text not in combined_results:\n",
    "            combined_results[text] = 0\n",
    "        combined_results[text] += score + 1 / (k + rank)\n",
    "    \n",
    "    # 사전의 값을 리스트로 변환하고, 점수에 따라 내림차순으로 정렬\n",
    "    sorted_combined_results = sorted(combined_results.items(), key=lambda x: x[1], reverse=True)\n",
    "\n",
    "    return sorted_combined_results"
   ]
  },
  {
   "cell_type": "code",
   "execution_count": 45,
   "metadata": {},
   "outputs": [
    {
     "data": {
      "text/plain": [
       "[(\"Cause I-I-I'm in the stars tonight\", 1.4333333333333336),\n",
       " ('So watch me bring the fire and set the night alight', 1.2327868852459019),\n",
       " ('Shining through the city with a little funk and soul', 0.7161290322580645),\n",
       " (\"So I'ma light it up like dynamite\", 0.6158730158730159),\n",
       " ('Bring a friend, join the crowd', 0.3161290322580645),\n",
       " ('Just move like we off the wall', 0.21587301587301588)]"
      ]
     },
     "execution_count": 45,
     "metadata": {},
     "output_type": "execute_result"
    }
   ],
   "source": [
    "rrf_combination(lyrics1, lyrics2)"
   ]
  },
  {
   "cell_type": "markdown",
   "metadata": {},
   "source": [
    "## Linear Combination"
   ]
  },
  {
   "cell_type": "code",
   "execution_count": 18,
   "metadata": {},
   "outputs": [],
   "source": [
    "# None 값을 0으로 치환하는 함수\n",
    "def safe_float(value):\n",
    "    return 0.0 if value is None else float(value)"
   ]
  },
  {
   "cell_type": "code",
   "execution_count": null,
   "metadata": {},
   "outputs": [],
   "source": [
    "import math\n",
    "\n",
    "\n",
    "def normalize_score(score, min_score, max_score):\n",
    "    \"\"\"\n",
    "    점수를 정규화합니다.\n",
    "    1. Min-Max 정규화를 통해 입력 점수를 0-1 범위로 조정\n",
    "    2. 로그 변환을 적용하여 점수 분포 조정\n",
    "    3. 지수 함수를 사용하여 최종 유사도 점수 계산\n",
    "\n",
    "    Parameters:\n",
    "    rank (float): 변환할 개별 문서의 점수\n",
    "    min_rank (float): 현재 검색 결과 세트의 최소 점수\n",
    "    max_rank (float): 현재 검색 결과 세트의 최대 점수\n",
    "\n",
    "    Returns:\n",
    "    float: 0-1 사이의 점수\n",
    "    \"\"\"\n",
    "    # 1. Min-Max 정규화\n",
    "    if (score - min_score) == 0 and (max_score - min_score) == 0:\n",
    "        normalized_rank = 0\n",
    "    else:\n",
    "        normalized_rank = (score - min_score) / (max_score - min_score)\n",
    "    \n",
    "    # 2. 로그 변환 (1을 더해 0을 방지)\n",
    "    log_rank = math.log(1 + normalized_rank)\n",
    "    \n",
    "    # 3. 지수 변환으로 0-1 범위로 매핑\n",
    "    cosine_like_similarity = 1 - math.exp(-log_rank)\n",
    "    \n",
    "    return cosine_like_similarity"
   ]
  },
  {
   "cell_type": "code",
   "execution_count": null,
   "metadata": {},
   "outputs": [],
   "source": [
    "from typing import List, Tuple\n",
    "\n",
    "def linear_combination_search_results(\n",
    "    lyrics1: List[Tuple[str, float]],\n",
    "    lyrics2: List[Tuple[str, float]],\n",
    "    alpha: float = 0.3, # 두 결과 간의 가중치를 조정하는 파라미터\n",
    ") ->List[Tuple[str, float]]:\n",
    "\n",
    "    # 결과를 결합하기 위한 사전 생성\n",
    "    combined_results = {}\n",
    "    \n",
    "    # 첫 번째 결과 추가\n",
    "    for (text, score) in lyrics1:\n",
    "        if text not in combined_results:\n",
    "            combined_results[text] = alpha * safe_float(score)\n",
    "        else:\n",
    "            existing_score = combined_results[text]\n",
    "            combined_results[text] = safe_float(existing_score) + alpha * safe_float(score)\n",
    "\n",
    "    # 두번째 결과 추가\n",
    "    for (text, score) in lyrics2:\n",
    "        if text not in combined_results:\n",
    "            combined_results[text] = alpha * safe_float(score)\n",
    "        else:\n",
    "            existing_score = combined_results[text]\n",
    "            combined_results[text] = safe_float(existing_score) + alpha * safe_float(score)\n",
    "            \n",
    "    # 결과 점수 추출\n",
    "    scores = list(combined_results.values())\n",
    "    \n",
    "    # 최소값과 최대값 계산\n",
    "    min_score = min(scores)\n",
    "    max_score = max(scores)\n",
    "    \n",
    "    # 점수 정규화 및 정렬\n",
    "    normalized_results = [(text, normalize_score(score, min_score, max_score)) for text, score in combined_results.items()]\n",
    "\n",
    "    # 사전의 값을 리스트로 변환하고, 점수에 따라 내림차순으로 정렬\n",
    "    normalized_results.sort(key=lambda x: x[1], reverse=True)\n",
    "\n",
    "    return normalized_results\n"
   ]
  },
  {
   "cell_type": "code",
   "execution_count": 30,
   "metadata": {},
   "outputs": [
    {
     "data": {
      "text/plain": [
       "[(\"Cause I-I-I'm in the stars tonight\", 0.5),\n",
       " ('So watch me bring the fire and set the night alight', 0.4545454545454545),\n",
       " ('Shining through the city with a little funk and soul', 0.2941176470588235),\n",
       " (\"So I'ma light it up like dynamite\", 0.2499999999999999),\n",
       " ('Bring a friend, join the crowd', 0.07692307692307687),\n",
       " ('Just move like we off the wall', 0.0)]"
      ]
     },
     "execution_count": 30,
     "metadata": {},
     "output_type": "execute_result"
    }
   ],
   "source": [
    "linear_combination_search_results(lyrics1, lyrics2)"
   ]
  },
  {
   "cell_type": "markdown",
   "metadata": {},
   "source": [
    "## Borda Count"
   ]
  },
  {
   "cell_type": "code",
   "execution_count": null,
   "metadata": {},
   "outputs": [],
   "source": [
    "def borda_count_combination(\n",
    "    lyrics1: List[Tuple[str, float]],\n",
    "    lyrics2: List[Tuple[str, float]],\n",
    ") ->List[Tuple[str, float]]:\n",
    "\n",
    "    combined_results = {}\n",
    "    \n",
    "    # 첫 번째 결과에 순위 점수 부여\n",
    "    for rank, (text, score) in enumerate(lyrics1):\n",
    "        if text not in combined_results:\n",
    "            combined_results[text] = 0\n",
    "        combined_results[text] =  combined_results[text] + len(lyrics1) - rank\n",
    "    \n",
    "    # 두 번째 결과에 순위 점수 부여\n",
    "    for rank, (text, score) in enumerate(lyrics2):\n",
    "        if text not in combined_results:\n",
    "            combined_results[text] = 0\n",
    "        combined_results[text] =  combined_results[text] + len(lyrics2) - rank\n",
    "    \n",
    "\n",
    "    # 사전의 값을 리스트로 변환하고, 점수에 따라 내림차순으로 정렬\n",
    "    sorted_combined_results = sorted(combined_results.items(), key=lambda x: x[1], reverse=True)\n",
    "\n",
    "    return sorted_combined_results"
   ]
  },
  {
   "cell_type": "code",
   "execution_count": 39,
   "metadata": {},
   "outputs": [
    {
     "data": {
      "text/plain": [
       "[(\"Cause I-I-I'm in the stars tonight\", 8),\n",
       " ('So watch me bring the fire and set the night alight', 6),\n",
       " ('Shining through the city with a little funk and soul', 2),\n",
       " ('Bring a friend, join the crowd', 2),\n",
       " (\"So I'ma light it up like dynamite\", 1),\n",
       " ('Just move like we off the wall', 1)]"
      ]
     },
     "execution_count": 39,
     "metadata": {},
     "output_type": "execute_result"
    }
   ],
   "source": [
    "borda_count_combination(lyrics1, lyrics2)"
   ]
  }
 ],
 "metadata": {
  "kernelspec": {
   "display_name": ".venv",
   "language": "python",
   "name": "python3"
  },
  "language_info": {
   "codemirror_mode": {
    "name": "ipython",
    "version": 3
   },
   "file_extension": ".py",
   "mimetype": "text/x-python",
   "name": "python",
   "nbconvert_exporter": "python",
   "pygments_lexer": "ipython3",
   "version": "3.10.10"
  }
 },
 "nbformat": 4,
 "nbformat_minor": 2
}
